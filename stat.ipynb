{
 "cells": [
  {
   "cell_type": "markdown",
   "metadata": {},
   "source": [
    "## Úkol 2: Test hypotézy"
   ]
  },
  {
   "cell_type": "markdown",
   "metadata": {},
   "source": [
    "Cílem je ověřit s 95% jistotou následující hypotézu:\n",
    "- Pokud viník nehody byl pod silným vlivem alkoholu, došlo častěji k těžkým zdravotním\n",
    "následkům."
   ]
  },
  {
   "cell_type": "code",
   "execution_count": 77,
   "metadata": {},
   "outputs": [],
   "source": [
    "import pandas as pd\n",
    "from scipy.stats import chi2_contingency\n",
    "from scipy.stats import chi2"
   ]
  },
  {
   "cell_type": "code",
   "execution_count": 78,
   "metadata": {},
   "outputs": [],
   "source": [
    "def get_dataframe(filename: str) -> pd.DataFrame:\n",
    "    \"\"\"\n",
    "    Funkce nacte dataframe ze souboru a převede jisté typy na kategorické.\n",
    "    \"\"\"\n",
    "    categorizable_cols = ['p36', 'p37', 'p2a', 'weekday(p2a)', 'p2b', 'p6', 'p7', 'p8', 'p9', 'p10',\n",
    "                          'p12', 'p14', 'p15', 'p16', 'p17', 'p18',\n",
    "                          'p19', 'p20', 'p21', 'p22', 'p23', 'p24', 'p27', 'p28', 'p34', 'p35', 'p39',\n",
    "                          'p44', 'p45a', 'p47', 'p48a', 'p49', 'p50a', 'p50b', 'p51', 'p52', 'p53',\n",
    "                          'p55a', 'p57', 'p58', 'h', 'i', 'j', 'k', 'l', 'n', 'o', 'p', 'q', 'r', 's', 't', 'p5a']\n",
    "    df = pd.read_pickle(filename, compression='gzip')\n",
    "    for col in categorizable_cols:\n",
    "        df[col] = df[col].astype('category')\n",
    "    return df"
   ]
  },
  {
   "cell_type": "code",
   "execution_count": 79,
   "metadata": {},
   "outputs": [],
   "source": [
    "df = get_dataframe('accidents.pkl.gz')"
   ]
  },
  {
   "cell_type": "markdown",
   "metadata": {},
   "source": [
    "Vybereme sloupce, které nás zajimají"
   ]
  },
  {
   "cell_type": "code",
   "execution_count": 80,
   "metadata": {},
   "outputs": [],
   "source": [
    "df_hyp = df[['p11', 'p13a', 'p13b']]"
   ]
  },
  {
   "cell_type": "markdown",
   "metadata": {},
   "source": [
    "Vyloučení nehod pod vlivem drog"
   ]
  },
  {
   "cell_type": "code",
   "execution_count": 81,
   "metadata": {},
   "outputs": [],
   "source": [
    "df_hyp = df_hyp[(df_hyp['p11'] != 4) & (df_hyp['p11'] != 5)] "
   ]
  },
  {
   "cell_type": "markdown",
   "metadata": {},
   "source": [
    "Zjistíme, jestli byl viník pod silným vlivem alkoholu"
   ]
  },
  {
   "cell_type": "code",
   "execution_count": 82,
   "metadata": {},
   "outputs": [],
   "source": [
    "df_hyp.loc[df_hyp['p11'] >= 7, 'silny_vliv_alkoholu'] = 1\n",
    "df_hyp.loc[df_hyp['p11'] < 7, 'silny_vliv_alkoholu'] = 0"
   ]
  },
  {
   "cell_type": "markdown",
   "metadata": {},
   "source": [
    "Došlo k těžký zdravotním následkům nebo k usmrcení (p13a+ p13b > 0)?\n"
   ]
  },
  {
   "cell_type": "code",
   "execution_count": 83,
   "metadata": {},
   "outputs": [],
   "source": [
    "df_hyp['tezke_nasledky'] = 0\n",
    "df_hyp.loc[df_hyp['p13a'] + df_hyp['p13b'] > 0, 'tezke_nasledky'] = 1"
   ]
  },
  {
   "cell_type": "markdown",
   "metadata": {},
   "source": [
    "Vytvoříme kontigenční tabulku"
   ]
  },
  {
   "cell_type": "code",
   "execution_count": 84,
   "metadata": {},
   "outputs": [
    {
     "data": {
      "text/html": [
       "<div>\n",
       "<style scoped>\n",
       "    .dataframe tbody tr th:only-of-type {\n",
       "        vertical-align: middle;\n",
       "    }\n",
       "\n",
       "    .dataframe tbody tr th {\n",
       "        vertical-align: top;\n",
       "    }\n",
       "\n",
       "    .dataframe thead th {\n",
       "        text-align: right;\n",
       "    }\n",
       "</style>\n",
       "<table border=\"1\" class=\"dataframe\">\n",
       "  <thead>\n",
       "    <tr style=\"text-align: right;\">\n",
       "      <th>tezke_nasledky</th>\n",
       "      <th>0</th>\n",
       "      <th>1</th>\n",
       "    </tr>\n",
       "    <tr>\n",
       "      <th>silny_vliv_alkoholu</th>\n",
       "      <th></th>\n",
       "      <th></th>\n",
       "    </tr>\n",
       "  </thead>\n",
       "  <tbody>\n",
       "    <tr>\n",
       "      <th>0.0</th>\n",
       "      <td>457528</td>\n",
       "      <td>10777</td>\n",
       "    </tr>\n",
       "    <tr>\n",
       "      <th>1.0</th>\n",
       "      <td>16492</td>\n",
       "      <td>886</td>\n",
       "    </tr>\n",
       "  </tbody>\n",
       "</table>\n",
       "</div>"
      ],
      "text/plain": [
       "tezke_nasledky            0      1\n",
       "silny_vliv_alkoholu               \n",
       "0.0                  457528  10777\n",
       "1.0                   16492    886"
      ]
     },
     "execution_count": 84,
     "metadata": {},
     "output_type": "execute_result"
    }
   ],
   "source": [
    "df_crosstab = pd.crosstab(index=df_hyp['silny_vliv_alkoholu'], columns=[df_hyp['tezke_nasledky']])\n",
    "df_crosstab"
   ]
  },
  {
   "cell_type": "markdown",
   "metadata": {},
   "source": [
    "Pro ověření dané hypotézy se použije chí-kvadrát test, který se používá pro dvě kategorické proměnné.\n",
    "Zadaná hypotéza je alternativní a říká, že mezi proměnnými je korelace.\n",
    "\n",
    "**H0: Nulová hypotéza** říká, že mezi silným vlivem alkoholu a těžkými následky není žádný vztah a jsou tedy nezávislé.\n",
    "\n",
    "**HA: Alternativní hypotéza** říká, že mezi těmito proměnnými je vztah.\n",
    "\n",
    "Zamítnutím H0 se potvrdí HA. O zamítnutí H0 můžeme rozhodnout dvěma způsoby: \n",
    "- Porovnáním napočítané testovací statistiky s kritické hodnotou. V případě, že testovací statistika přesáhne kritickou hodnotu, je možné H0 zamítnout.\n",
    "- Porovnáním p-hodnoty s hladinou významnosti. V případě, že p-hodnota je nižší nž hladina významnosti, pak můžeme H0 zamítnout."
   ]
  },
  {
   "cell_type": "markdown",
   "metadata": {},
   "source": [
    "Následující kód porovnává p-hodnotu s hladinou významnosti."
   ]
  },
  {
   "cell_type": "code",
   "execution_count": 85,
   "metadata": {},
   "outputs": [
    {
     "name": "stdout",
     "output_type": "stream",
     "text": [
      "Stupeň volnosti: 1\n",
      "P-hodnota: 0.00\n",
      "Testovací statistika: 558.17\n",
      "Očekávaná naměřené hodnoty: \n",
      "[[4.57059308e+05 1.12456916e+04]\n",
      " [1.69606916e+04 4.17308438e+02]]\n",
      "\n",
      "0.00 <= 0.05 -> Zamítáme H0!\n"
     ]
    }
   ],
   "source": [
    "stat, p, dof, expected = chi2_contingency(df_crosstab)\n",
    "print(F\"Stupeň volnosti: {dof}\")\n",
    "print(F\"P-hodnota: {p:.2f}\")\n",
    "print(F\"Testovací statistika: {stat:.2f}\")\n",
    "print(F\"Očekávaná naměřené hodnoty: \\n{expected}\\n\")\n",
    "\n",
    "prob = 0.95\n",
    "alpha = 1.0 - prob\n",
    "if p <= alpha:\n",
    "\tprint(F\"{p:.2f} <= {alpha:.2f} -> Zamítáme H0!\")\n",
    "else:\n",
    "\tprint(F\"{p:.2f} < {alpha:.2f} -> Nezamítáme H0!\")"
   ]
  },
  {
   "cell_type": "markdown",
   "metadata": {},
   "source": [
    "Následující kód porovnává testovací statistiku s kritickou hodnotou. "
   ]
  },
  {
   "cell_type": "code",
   "execution_count": 86,
   "metadata": {},
   "outputs": [
    {
     "name": "stdout",
     "output_type": "stream",
     "text": [
      "Kritická hodnota: 3.84\n",
      "Testovací statistika: 558.17\n",
      "\n",
      "558.17 >= 3.84 -> Zamítáme H0!\n"
     ]
    }
   ],
   "source": [
    "critical = chi2.ppf(prob, dof) # zjistime, jakou hodnotu ma kriticka hodnota\n",
    "print(F\"Kritická hodnota: {critical:.2f}\")\n",
    "print(F\"Testovací statistika: {stat:.2f}\\n\")\n",
    "\n",
    "if abs(stat) >= critical:\n",
    "    print(F\"{abs(stat):.2f} >= {critical:.2f} -> Zamítáme H0!\")\n",
    "else:\n",
    "    print(F\"{abs(stat):.2f} < {critical:.2f} -> Nezamítáme H0!\")"
   ]
  },
  {
   "cell_type": "markdown",
   "metadata": {},
   "source": [
    "V obou případech vyšlo, že zamítáme nulovou hypotézu, a můžeme tedy prohlásit, že je zde statisticky významná korelace mezi silným vlivem alkoholu a těžkými následky."
   ]
  },
  {
   "cell_type": "code",
   "execution_count": null,
   "metadata": {},
   "outputs": [],
   "source": []
  }
 ],
 "metadata": {
  "kernelspec": {
   "display_name": "Python 3",
   "language": "python",
   "name": "python3"
  },
  "language_info": {
   "codemirror_mode": {
    "name": "ipython",
    "version": 3
   },
   "file_extension": ".py",
   "mimetype": "text/x-python",
   "name": "python",
   "nbconvert_exporter": "python",
   "pygments_lexer": "ipython3",
   "version": "3.8.5"
  }
 },
 "nbformat": 4,
 "nbformat_minor": 4
}
